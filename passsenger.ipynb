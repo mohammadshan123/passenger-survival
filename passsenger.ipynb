{
 "cells": [
  {
   "cell_type": "code",
   "execution_count": 99,
   "metadata": {},
   "outputs": [],
   "source": [
    "import numpy as numpy\n",
    "import pandas as pd\n",
    "import matplotlib.pyplot as plt\n",
    "import seaborn as sns\n"
   ]
  },
  {
   "cell_type": "code",
   "execution_count": 100,
   "metadata": {},
   "outputs": [
    {
     "data": {
      "text/html": [
       "<div>\n",
       "<style scoped>\n",
       "    .dataframe tbody tr th:only-of-type {\n",
       "        vertical-align: middle;\n",
       "    }\n",
       "\n",
       "    .dataframe tbody tr th {\n",
       "        vertical-align: top;\n",
       "    }\n",
       "\n",
       "    .dataframe thead th {\n",
       "        text-align: right;\n",
       "    }\n",
       "</style>\n",
       "<table border=\"1\" class=\"dataframe\">\n",
       "  <thead>\n",
       "    <tr style=\"text-align: right;\">\n",
       "      <th></th>\n",
       "      <th>Passenger_ID</th>\n",
       "      <th>Name</th>\n",
       "      <th>Age</th>\n",
       "      <th>Gender</th>\n",
       "      <th>Class</th>\n",
       "      <th>Seat_Type</th>\n",
       "      <th>Fare_Paid</th>\n",
       "      <th>Survival_Status</th>\n",
       "    </tr>\n",
       "  </thead>\n",
       "  <tbody>\n",
       "    <tr>\n",
       "      <th>0</th>\n",
       "      <td>1</td>\n",
       "      <td>Passenger_1</td>\n",
       "      <td>52</td>\n",
       "      <td>Male</td>\n",
       "      <td>Economy</td>\n",
       "      <td>Window</td>\n",
       "      <td>822.34</td>\n",
       "      <td>0</td>\n",
       "    </tr>\n",
       "    <tr>\n",
       "      <th>1</th>\n",
       "      <td>2</td>\n",
       "      <td>Passenger_2</td>\n",
       "      <td>15</td>\n",
       "      <td>Female</td>\n",
       "      <td>Economy</td>\n",
       "      <td>Middle</td>\n",
       "      <td>732.22</td>\n",
       "      <td>0</td>\n",
       "    </tr>\n",
       "    <tr>\n",
       "      <th>2</th>\n",
       "      <td>3</td>\n",
       "      <td>Passenger_3</td>\n",
       "      <td>72</td>\n",
       "      <td>Male</td>\n",
       "      <td>First</td>\n",
       "      <td>Aisle</td>\n",
       "      <td>957.75</td>\n",
       "      <td>1</td>\n",
       "    </tr>\n",
       "    <tr>\n",
       "      <th>3</th>\n",
       "      <td>4</td>\n",
       "      <td>Passenger_4</td>\n",
       "      <td>61</td>\n",
       "      <td>Female</td>\n",
       "      <td>Business</td>\n",
       "      <td>Middle</td>\n",
       "      <td>67.32</td>\n",
       "      <td>0</td>\n",
       "    </tr>\n",
       "    <tr>\n",
       "      <th>4</th>\n",
       "      <td>5</td>\n",
       "      <td>Passenger_5</td>\n",
       "      <td>21</td>\n",
       "      <td>Male</td>\n",
       "      <td>Economy</td>\n",
       "      <td>Aisle</td>\n",
       "      <td>235.99</td>\n",
       "      <td>0</td>\n",
       "    </tr>\n",
       "    <tr>\n",
       "      <th>...</th>\n",
       "      <td>...</td>\n",
       "      <td>...</td>\n",
       "      <td>...</td>\n",
       "      <td>...</td>\n",
       "      <td>...</td>\n",
       "      <td>...</td>\n",
       "      <td>...</td>\n",
       "      <td>...</td>\n",
       "    </tr>\n",
       "    <tr>\n",
       "      <th>495</th>\n",
       "      <td>496</td>\n",
       "      <td>Passenger_496</td>\n",
       "      <td>57</td>\n",
       "      <td>Male</td>\n",
       "      <td>Business</td>\n",
       "      <td>Window</td>\n",
       "      <td>771.43</td>\n",
       "      <td>0</td>\n",
       "    </tr>\n",
       "    <tr>\n",
       "      <th>496</th>\n",
       "      <td>497</td>\n",
       "      <td>Passenger_497</td>\n",
       "      <td>39</td>\n",
       "      <td>Male</td>\n",
       "      <td>Economy</td>\n",
       "      <td>Middle</td>\n",
       "      <td>477.25</td>\n",
       "      <td>1</td>\n",
       "    </tr>\n",
       "    <tr>\n",
       "      <th>497</th>\n",
       "      <td>498</td>\n",
       "      <td>Passenger_498</td>\n",
       "      <td>53</td>\n",
       "      <td>Male</td>\n",
       "      <td>Economy</td>\n",
       "      <td>Middle</td>\n",
       "      <td>787.88</td>\n",
       "      <td>0</td>\n",
       "    </tr>\n",
       "    <tr>\n",
       "      <th>498</th>\n",
       "      <td>499</td>\n",
       "      <td>Passenger_499</td>\n",
       "      <td>42</td>\n",
       "      <td>Male</td>\n",
       "      <td>Economy</td>\n",
       "      <td>Middle</td>\n",
       "      <td>112.10</td>\n",
       "      <td>1</td>\n",
       "    </tr>\n",
       "    <tr>\n",
       "      <th>499</th>\n",
       "      <td>500</td>\n",
       "      <td>Passenger_500</td>\n",
       "      <td>58</td>\n",
       "      <td>Male</td>\n",
       "      <td>Business</td>\n",
       "      <td>Middle</td>\n",
       "      <td>513.19</td>\n",
       "      <td>1</td>\n",
       "    </tr>\n",
       "  </tbody>\n",
       "</table>\n",
       "<p>500 rows × 8 columns</p>\n",
       "</div>"
      ],
      "text/plain": [
       "     Passenger_ID           Name  Age  Gender     Class Seat_Type  Fare_Paid  \\\n",
       "0               1    Passenger_1   52    Male   Economy    Window     822.34   \n",
       "1               2    Passenger_2   15  Female   Economy    Middle     732.22   \n",
       "2               3    Passenger_3   72    Male     First     Aisle     957.75   \n",
       "3               4    Passenger_4   61  Female  Business    Middle      67.32   \n",
       "4               5    Passenger_5   21    Male   Economy     Aisle     235.99   \n",
       "..            ...            ...  ...     ...       ...       ...        ...   \n",
       "495           496  Passenger_496   57    Male  Business    Window     771.43   \n",
       "496           497  Passenger_497   39    Male   Economy    Middle     477.25   \n",
       "497           498  Passenger_498   53    Male   Economy    Middle     787.88   \n",
       "498           499  Passenger_499   42    Male   Economy    Middle     112.10   \n",
       "499           500  Passenger_500   58    Male  Business    Middle     513.19   \n",
       "\n",
       "     Survival_Status  \n",
       "0                  0  \n",
       "1                  0  \n",
       "2                  1  \n",
       "3                  0  \n",
       "4                  0  \n",
       "..               ...  \n",
       "495                0  \n",
       "496                1  \n",
       "497                0  \n",
       "498                1  \n",
       "499                1  \n",
       "\n",
       "[500 rows x 8 columns]"
      ]
     },
     "execution_count": 100,
     "metadata": {},
     "output_type": "execute_result"
    }
   ],
   "source": [
    "df=pd.read_csv(\"passenger_survival_dataset.csv\")\n",
    "df"
   ]
  },
  {
   "cell_type": "code",
   "execution_count": 101,
   "metadata": {},
   "outputs": [
    {
     "data": {
      "text/html": [
       "<div>\n",
       "<style scoped>\n",
       "    .dataframe tbody tr th:only-of-type {\n",
       "        vertical-align: middle;\n",
       "    }\n",
       "\n",
       "    .dataframe tbody tr th {\n",
       "        vertical-align: top;\n",
       "    }\n",
       "\n",
       "    .dataframe thead th {\n",
       "        text-align: right;\n",
       "    }\n",
       "</style>\n",
       "<table border=\"1\" class=\"dataframe\">\n",
       "  <thead>\n",
       "    <tr style=\"text-align: right;\">\n",
       "      <th></th>\n",
       "      <th>Passenger_ID</th>\n",
       "      <th>Name</th>\n",
       "      <th>Age</th>\n",
       "      <th>Gender</th>\n",
       "      <th>Class</th>\n",
       "      <th>Seat_Type</th>\n",
       "      <th>Fare_Paid</th>\n",
       "      <th>Survival_Status</th>\n",
       "    </tr>\n",
       "  </thead>\n",
       "  <tbody>\n",
       "    <tr>\n",
       "      <th>0</th>\n",
       "      <td>1</td>\n",
       "      <td>Passenger_1</td>\n",
       "      <td>52</td>\n",
       "      <td>Male</td>\n",
       "      <td>Economy</td>\n",
       "      <td>Window</td>\n",
       "      <td>822.34</td>\n",
       "      <td>0</td>\n",
       "    </tr>\n",
       "    <tr>\n",
       "      <th>1</th>\n",
       "      <td>2</td>\n",
       "      <td>Passenger_2</td>\n",
       "      <td>15</td>\n",
       "      <td>Female</td>\n",
       "      <td>Economy</td>\n",
       "      <td>Middle</td>\n",
       "      <td>732.22</td>\n",
       "      <td>0</td>\n",
       "    </tr>\n",
       "    <tr>\n",
       "      <th>2</th>\n",
       "      <td>3</td>\n",
       "      <td>Passenger_3</td>\n",
       "      <td>72</td>\n",
       "      <td>Male</td>\n",
       "      <td>First</td>\n",
       "      <td>Aisle</td>\n",
       "      <td>957.75</td>\n",
       "      <td>1</td>\n",
       "    </tr>\n",
       "    <tr>\n",
       "      <th>3</th>\n",
       "      <td>4</td>\n",
       "      <td>Passenger_4</td>\n",
       "      <td>61</td>\n",
       "      <td>Female</td>\n",
       "      <td>Business</td>\n",
       "      <td>Middle</td>\n",
       "      <td>67.32</td>\n",
       "      <td>0</td>\n",
       "    </tr>\n",
       "    <tr>\n",
       "      <th>4</th>\n",
       "      <td>5</td>\n",
       "      <td>Passenger_5</td>\n",
       "      <td>21</td>\n",
       "      <td>Male</td>\n",
       "      <td>Economy</td>\n",
       "      <td>Aisle</td>\n",
       "      <td>235.99</td>\n",
       "      <td>0</td>\n",
       "    </tr>\n",
       "  </tbody>\n",
       "</table>\n",
       "</div>"
      ],
      "text/plain": [
       "   Passenger_ID         Name  Age  Gender     Class Seat_Type  Fare_Paid  \\\n",
       "0             1  Passenger_1   52    Male   Economy    Window     822.34   \n",
       "1             2  Passenger_2   15  Female   Economy    Middle     732.22   \n",
       "2             3  Passenger_3   72    Male     First     Aisle     957.75   \n",
       "3             4  Passenger_4   61  Female  Business    Middle      67.32   \n",
       "4             5  Passenger_5   21    Male   Economy     Aisle     235.99   \n",
       "\n",
       "   Survival_Status  \n",
       "0                0  \n",
       "1                0  \n",
       "2                1  \n",
       "3                0  \n",
       "4                0  "
      ]
     },
     "execution_count": 101,
     "metadata": {},
     "output_type": "execute_result"
    }
   ],
   "source": [
    "df.head()"
   ]
  },
  {
   "cell_type": "code",
   "execution_count": 102,
   "metadata": {},
   "outputs": [
    {
     "data": {
      "text/html": [
       "<div>\n",
       "<style scoped>\n",
       "    .dataframe tbody tr th:only-of-type {\n",
       "        vertical-align: middle;\n",
       "    }\n",
       "\n",
       "    .dataframe tbody tr th {\n",
       "        vertical-align: top;\n",
       "    }\n",
       "\n",
       "    .dataframe thead th {\n",
       "        text-align: right;\n",
       "    }\n",
       "</style>\n",
       "<table border=\"1\" class=\"dataframe\">\n",
       "  <thead>\n",
       "    <tr style=\"text-align: right;\">\n",
       "      <th></th>\n",
       "      <th>Passenger_ID</th>\n",
       "      <th>Name</th>\n",
       "      <th>Age</th>\n",
       "      <th>Gender</th>\n",
       "      <th>Class</th>\n",
       "      <th>Seat_Type</th>\n",
       "      <th>Fare_Paid</th>\n",
       "      <th>Survival_Status</th>\n",
       "    </tr>\n",
       "  </thead>\n",
       "  <tbody>\n",
       "    <tr>\n",
       "      <th>495</th>\n",
       "      <td>496</td>\n",
       "      <td>Passenger_496</td>\n",
       "      <td>57</td>\n",
       "      <td>Male</td>\n",
       "      <td>Business</td>\n",
       "      <td>Window</td>\n",
       "      <td>771.43</td>\n",
       "      <td>0</td>\n",
       "    </tr>\n",
       "    <tr>\n",
       "      <th>496</th>\n",
       "      <td>497</td>\n",
       "      <td>Passenger_497</td>\n",
       "      <td>39</td>\n",
       "      <td>Male</td>\n",
       "      <td>Economy</td>\n",
       "      <td>Middle</td>\n",
       "      <td>477.25</td>\n",
       "      <td>1</td>\n",
       "    </tr>\n",
       "    <tr>\n",
       "      <th>497</th>\n",
       "      <td>498</td>\n",
       "      <td>Passenger_498</td>\n",
       "      <td>53</td>\n",
       "      <td>Male</td>\n",
       "      <td>Economy</td>\n",
       "      <td>Middle</td>\n",
       "      <td>787.88</td>\n",
       "      <td>0</td>\n",
       "    </tr>\n",
       "    <tr>\n",
       "      <th>498</th>\n",
       "      <td>499</td>\n",
       "      <td>Passenger_499</td>\n",
       "      <td>42</td>\n",
       "      <td>Male</td>\n",
       "      <td>Economy</td>\n",
       "      <td>Middle</td>\n",
       "      <td>112.10</td>\n",
       "      <td>1</td>\n",
       "    </tr>\n",
       "    <tr>\n",
       "      <th>499</th>\n",
       "      <td>500</td>\n",
       "      <td>Passenger_500</td>\n",
       "      <td>58</td>\n",
       "      <td>Male</td>\n",
       "      <td>Business</td>\n",
       "      <td>Middle</td>\n",
       "      <td>513.19</td>\n",
       "      <td>1</td>\n",
       "    </tr>\n",
       "  </tbody>\n",
       "</table>\n",
       "</div>"
      ],
      "text/plain": [
       "     Passenger_ID           Name  Age Gender     Class Seat_Type  Fare_Paid  \\\n",
       "495           496  Passenger_496   57   Male  Business    Window     771.43   \n",
       "496           497  Passenger_497   39   Male   Economy    Middle     477.25   \n",
       "497           498  Passenger_498   53   Male   Economy    Middle     787.88   \n",
       "498           499  Passenger_499   42   Male   Economy    Middle     112.10   \n",
       "499           500  Passenger_500   58   Male  Business    Middle     513.19   \n",
       "\n",
       "     Survival_Status  \n",
       "495                0  \n",
       "496                1  \n",
       "497                0  \n",
       "498                1  \n",
       "499                1  "
      ]
     },
     "execution_count": 102,
     "metadata": {},
     "output_type": "execute_result"
    }
   ],
   "source": [
    "df.tail()"
   ]
  },
  {
   "cell_type": "code",
   "execution_count": 103,
   "metadata": {},
   "outputs": [
    {
     "data": {
      "text/plain": [
       "Index(['Passenger_ID', 'Name', 'Age', 'Gender', 'Class', 'Seat_Type',\n",
       "       'Fare_Paid', 'Survival_Status'],\n",
       "      dtype='object')"
      ]
     },
     "execution_count": 103,
     "metadata": {},
     "output_type": "execute_result"
    }
   ],
   "source": [
    "df.columns"
   ]
  },
  {
   "cell_type": "code",
   "execution_count": 104,
   "metadata": {},
   "outputs": [
    {
     "data": {
      "text/plain": [
       "(500, 8)"
      ]
     },
     "execution_count": 104,
     "metadata": {},
     "output_type": "execute_result"
    }
   ],
   "source": [
    "df.shape"
   ]
  },
  {
   "cell_type": "code",
   "execution_count": 105,
   "metadata": {},
   "outputs": [
    {
     "data": {
      "text/plain": [
       "Passenger_ID       500\n",
       "Name               500\n",
       "Age                 79\n",
       "Gender               2\n",
       "Class                3\n",
       "Seat_Type            3\n",
       "Fare_Paid          498\n",
       "Survival_Status      2\n",
       "dtype: int64"
      ]
     },
     "execution_count": 105,
     "metadata": {},
     "output_type": "execute_result"
    }
   ],
   "source": [
    "df.nunique()"
   ]
  },
  {
   "cell_type": "code",
   "execution_count": 106,
   "metadata": {},
   "outputs": [
    {
     "data": {
      "text/html": [
       "<div>\n",
       "<style scoped>\n",
       "    .dataframe tbody tr th:only-of-type {\n",
       "        vertical-align: middle;\n",
       "    }\n",
       "\n",
       "    .dataframe tbody tr th {\n",
       "        vertical-align: top;\n",
       "    }\n",
       "\n",
       "    .dataframe thead th {\n",
       "        text-align: right;\n",
       "    }\n",
       "</style>\n",
       "<table border=\"1\" class=\"dataframe\">\n",
       "  <thead>\n",
       "    <tr style=\"text-align: right;\">\n",
       "      <th></th>\n",
       "      <th>Passenger_ID</th>\n",
       "      <th>Age</th>\n",
       "      <th>Fare_Paid</th>\n",
       "      <th>Survival_Status</th>\n",
       "    </tr>\n",
       "  </thead>\n",
       "  <tbody>\n",
       "    <tr>\n",
       "      <th>count</th>\n",
       "      <td>500.000000</td>\n",
       "      <td>500.000000</td>\n",
       "      <td>500.000000</td>\n",
       "      <td>500.000000</td>\n",
       "    </tr>\n",
       "    <tr>\n",
       "      <th>mean</th>\n",
       "      <td>250.500000</td>\n",
       "      <td>38.474000</td>\n",
       "      <td>521.357180</td>\n",
       "      <td>0.400000</td>\n",
       "    </tr>\n",
       "    <tr>\n",
       "      <th>std</th>\n",
       "      <td>144.481833</td>\n",
       "      <td>22.360799</td>\n",
       "      <td>273.883505</td>\n",
       "      <td>0.490389</td>\n",
       "    </tr>\n",
       "    <tr>\n",
       "      <th>min</th>\n",
       "      <td>1.000000</td>\n",
       "      <td>1.000000</td>\n",
       "      <td>53.060000</td>\n",
       "      <td>0.000000</td>\n",
       "    </tr>\n",
       "    <tr>\n",
       "      <th>25%</th>\n",
       "      <td>125.750000</td>\n",
       "      <td>19.000000</td>\n",
       "      <td>279.020000</td>\n",
       "      <td>0.000000</td>\n",
       "    </tr>\n",
       "    <tr>\n",
       "      <th>50%</th>\n",
       "      <td>250.500000</td>\n",
       "      <td>37.500000</td>\n",
       "      <td>530.695000</td>\n",
       "      <td>0.000000</td>\n",
       "    </tr>\n",
       "    <tr>\n",
       "      <th>75%</th>\n",
       "      <td>375.250000</td>\n",
       "      <td>58.250000</td>\n",
       "      <td>752.585000</td>\n",
       "      <td>1.000000</td>\n",
       "    </tr>\n",
       "    <tr>\n",
       "      <th>max</th>\n",
       "      <td>500.000000</td>\n",
       "      <td>79.000000</td>\n",
       "      <td>998.430000</td>\n",
       "      <td>1.000000</td>\n",
       "    </tr>\n",
       "  </tbody>\n",
       "</table>\n",
       "</div>"
      ],
      "text/plain": [
       "       Passenger_ID         Age   Fare_Paid  Survival_Status\n",
       "count    500.000000  500.000000  500.000000       500.000000\n",
       "mean     250.500000   38.474000  521.357180         0.400000\n",
       "std      144.481833   22.360799  273.883505         0.490389\n",
       "min        1.000000    1.000000   53.060000         0.000000\n",
       "25%      125.750000   19.000000  279.020000         0.000000\n",
       "50%      250.500000   37.500000  530.695000         0.000000\n",
       "75%      375.250000   58.250000  752.585000         1.000000\n",
       "max      500.000000   79.000000  998.430000         1.000000"
      ]
     },
     "execution_count": 106,
     "metadata": {},
     "output_type": "execute_result"
    }
   ],
   "source": [
    "df.describe()"
   ]
  },
  {
   "cell_type": "code",
   "execution_count": 107,
   "metadata": {},
   "outputs": [
    {
     "data": {
      "text/html": [
       "<div>\n",
       "<style scoped>\n",
       "    .dataframe tbody tr th:only-of-type {\n",
       "        vertical-align: middle;\n",
       "    }\n",
       "\n",
       "    .dataframe tbody tr th {\n",
       "        vertical-align: top;\n",
       "    }\n",
       "\n",
       "    .dataframe thead th {\n",
       "        text-align: right;\n",
       "    }\n",
       "</style>\n",
       "<table border=\"1\" class=\"dataframe\">\n",
       "  <thead>\n",
       "    <tr style=\"text-align: right;\">\n",
       "      <th></th>\n",
       "      <th>Name</th>\n",
       "      <th>Gender</th>\n",
       "      <th>Class</th>\n",
       "      <th>Seat_Type</th>\n",
       "    </tr>\n",
       "  </thead>\n",
       "  <tbody>\n",
       "    <tr>\n",
       "      <th>count</th>\n",
       "      <td>500</td>\n",
       "      <td>500</td>\n",
       "      <td>500</td>\n",
       "      <td>500</td>\n",
       "    </tr>\n",
       "    <tr>\n",
       "      <th>unique</th>\n",
       "      <td>500</td>\n",
       "      <td>2</td>\n",
       "      <td>3</td>\n",
       "      <td>3</td>\n",
       "    </tr>\n",
       "    <tr>\n",
       "      <th>top</th>\n",
       "      <td>Passenger_1</td>\n",
       "      <td>Male</td>\n",
       "      <td>Economy</td>\n",
       "      <td>Aisle</td>\n",
       "    </tr>\n",
       "    <tr>\n",
       "      <th>freq</th>\n",
       "      <td>1</td>\n",
       "      <td>264</td>\n",
       "      <td>300</td>\n",
       "      <td>177</td>\n",
       "    </tr>\n",
       "  </tbody>\n",
       "</table>\n",
       "</div>"
      ],
      "text/plain": [
       "               Name Gender    Class Seat_Type\n",
       "count           500    500      500       500\n",
       "unique          500      2        3         3\n",
       "top     Passenger_1   Male  Economy     Aisle\n",
       "freq              1    264      300       177"
      ]
     },
     "execution_count": 107,
     "metadata": {},
     "output_type": "execute_result"
    }
   ],
   "source": [
    "df.describe(include=\"object\")"
   ]
  },
  {
   "cell_type": "code",
   "execution_count": 108,
   "metadata": {},
   "outputs": [
    {
     "data": {
      "text/plain": [
       "Passenger_ID       0\n",
       "Name               0\n",
       "Age                0\n",
       "Gender             0\n",
       "Class              0\n",
       "Seat_Type          0\n",
       "Fare_Paid          0\n",
       "Survival_Status    0\n",
       "dtype: int64"
      ]
     },
     "execution_count": 108,
     "metadata": {},
     "output_type": "execute_result"
    }
   ],
   "source": [
    "df.isnull().sum()"
   ]
  },
  {
   "cell_type": "code",
   "execution_count": 109,
   "metadata": {},
   "outputs": [
    {
     "data": {
      "text/plain": [
       "0"
      ]
     },
     "execution_count": 109,
     "metadata": {},
     "output_type": "execute_result"
    }
   ],
   "source": [
    "df.duplicated().sum()"
   ]
  },
  {
   "cell_type": "code",
   "execution_count": 110,
   "metadata": {},
   "outputs": [],
   "source": [
    "df.drop(columns=[\"Name\"], inplace=True)"
   ]
  },
  {
   "cell_type": "code",
   "execution_count": 111,
   "metadata": {},
   "outputs": [],
   "source": [
    "from sklearn.model_selection import train_test_split\n"
   ]
  },
  {
   "cell_type": "code",
   "execution_count": 112,
   "metadata": {},
   "outputs": [
    {
     "name": "stdout",
     "output_type": "stream",
     "text": [
      "<class 'pandas.core.frame.DataFrame'>\n",
      "RangeIndex: 500 entries, 0 to 499\n",
      "Data columns (total 7 columns):\n",
      " #   Column           Non-Null Count  Dtype  \n",
      "---  ------           --------------  -----  \n",
      " 0   Passenger_ID     500 non-null    int64  \n",
      " 1   Age              500 non-null    int64  \n",
      " 2   Gender           500 non-null    object \n",
      " 3   Class            500 non-null    object \n",
      " 4   Seat_Type        500 non-null    object \n",
      " 5   Fare_Paid        500 non-null    float64\n",
      " 6   Survival_Status  500 non-null    int64  \n",
      "dtypes: float64(1), int64(3), object(3)\n",
      "memory usage: 27.5+ KB\n"
     ]
    }
   ],
   "source": [
    "df.info()"
   ]
  },
  {
   "cell_type": "code",
   "execution_count": 113,
   "metadata": {},
   "outputs": [],
   "source": [
    "Class_mapping={\"Business\":0, \"Economy\":1, \"First\":2}"
   ]
  },
  {
   "cell_type": "code",
   "execution_count": 114,
   "metadata": {},
   "outputs": [],
   "source": [
    "df[\"Class\"]=df[\"Class\"].map(Class_mapping)"
   ]
  },
  {
   "cell_type": "code",
   "execution_count": 115,
   "metadata": {},
   "outputs": [],
   "source": [
    "df=pd.get_dummies(df,columns=[\"Gender\"],dtype=int)"
   ]
  },
  {
   "cell_type": "code",
   "execution_count": 116,
   "metadata": {},
   "outputs": [],
   "source": [
    "seat_mapping={\"Window\":0, \"Middle\":1, \"Aisle\":2}"
   ]
  },
  {
   "cell_type": "code",
   "execution_count": 117,
   "metadata": {},
   "outputs": [],
   "source": [
    "df[\"Seat_Type\"]=df[\"Seat_Type\"].map(seat_mapping)"
   ]
  },
  {
   "cell_type": "code",
   "execution_count": 118,
   "metadata": {},
   "outputs": [
    {
     "name": "stdout",
     "output_type": "stream",
     "text": [
      "<class 'pandas.core.frame.DataFrame'>\n",
      "RangeIndex: 500 entries, 0 to 499\n",
      "Data columns (total 8 columns):\n",
      " #   Column           Non-Null Count  Dtype  \n",
      "---  ------           --------------  -----  \n",
      " 0   Passenger_ID     500 non-null    int64  \n",
      " 1   Age              500 non-null    int64  \n",
      " 2   Class            500 non-null    int64  \n",
      " 3   Seat_Type        500 non-null    int64  \n",
      " 4   Fare_Paid        500 non-null    float64\n",
      " 5   Survival_Status  500 non-null    int64  \n",
      " 6   Gender_Female    500 non-null    int32  \n",
      " 7   Gender_Male      500 non-null    int32  \n",
      "dtypes: float64(1), int32(2), int64(5)\n",
      "memory usage: 27.5 KB\n"
     ]
    }
   ],
   "source": [
    "df.info()"
   ]
  },
  {
   "cell_type": "code",
   "execution_count": 119,
   "metadata": {},
   "outputs": [],
   "source": [
    "x=df[[\"Passenger_ID\", \"Age\", \"Class\",\"Seat_Type\",\"Fare_Paid\",\"Gender_Female\",\"Gender_Male\"]]\n",
    "y=df[\"Survival_Status\"]"
   ]
  },
  {
   "cell_type": "code",
   "execution_count": 126,
   "metadata": {},
   "outputs": [],
   "source": [
    "x.to_csv(\"x.csv\", index=False)"
   ]
  },
  {
   "cell_type": "code",
   "execution_count": 120,
   "metadata": {},
   "outputs": [],
   "source": [
    "X_train, X_test, y_train, y_test=train_test_split(x,y,test_size=0.2, random_state=42)"
   ]
  },
  {
   "cell_type": "code",
   "execution_count": 121,
   "metadata": {},
   "outputs": [],
   "source": [
    "from sklearn.tree import DecisionTreeClassifier"
   ]
  },
  {
   "cell_type": "code",
   "execution_count": 122,
   "metadata": {},
   "outputs": [],
   "source": [
    "from sklearn.metrics import accuracy_score,  classification_report"
   ]
  },
  {
   "cell_type": "code",
   "execution_count": 123,
   "metadata": {},
   "outputs": [
    {
     "name": "stdout",
     "output_type": "stream",
     "text": [
      "0.45\n",
      "              precision    recall  f1-score   support\n",
      "\n",
      "           0       0.50      0.49      0.50        55\n",
      "           1       0.39      0.40      0.40        45\n",
      "\n",
      "    accuracy                           0.45       100\n",
      "   macro avg       0.45      0.45      0.45       100\n",
      "weighted avg       0.45      0.45      0.45       100\n",
      "\n"
     ]
    }
   ],
   "source": [
    "\n",
    "\n",
    "# Assuming X_train, X_test, y_train, y_test are already defined\n",
    "model = DecisionTreeClassifier()\n",
    "model.fit(X_train, y_train)\n",
    "model.score(X_test, y_test)\n",
    "predictions = model.predict(X_test)\n",
    "\n",
    "print(accuracy_score(y_test, predictions))\n",
    "print(classification_report(y_test, predictions))"
   ]
  },
  {
   "cell_type": "code",
   "execution_count": 124,
   "metadata": {},
   "outputs": [],
   "source": [
    "import pickle"
   ]
  },
  {
   "cell_type": "code",
   "execution_count": 125,
   "metadata": {},
   "outputs": [],
   "source": [
    "file_name=\"passenger_survival_model.pkl\"\n",
    "with open (file_name,\"wb\") as file:\n",
    "    pickle.dump(model,file)"
   ]
  }
 ],
 "metadata": {
  "kernelspec": {
   "display_name": "base",
   "language": "python",
   "name": "python3"
  },
  "language_info": {
   "codemirror_mode": {
    "name": "ipython",
    "version": 3
   },
   "file_extension": ".py",
   "mimetype": "text/x-python",
   "name": "python",
   "nbconvert_exporter": "python",
   "pygments_lexer": "ipython3",
   "version": "3.12.7"
  }
 },
 "nbformat": 4,
 "nbformat_minor": 2
}
